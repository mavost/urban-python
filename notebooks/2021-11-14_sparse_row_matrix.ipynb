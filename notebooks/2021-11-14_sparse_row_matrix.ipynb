{
 "cells": [
  {
   "cell_type": "code",
   "execution_count": null,
   "metadata": {},
   "outputs": [],
   "source": [
    "import numpy as np\n",
    "\n",
    "from scipy.sparse import csr_matrix"
   ]
  },
  {
   "cell_type": "code",
   "execution_count": null,
   "metadata": {},
   "outputs": [],
   "source": [
    "\n",
    "data = np.array([1, 2, 3, 4, 5])\n",
    "\n",
    "indices = np.array([0, 2, 2, 0, 1])\n",
    "\n",
    "indptr = np.array([0, 2, 0, 2, 0, 2, 5])\n",
    "\n",
    "output = csr_matrix((data, indices, indptr), shape=(6, 3)).toarray()\n",
    "\n",
    "for i,j in enumerate(zip(indptr, indptr[1:])):\n",
    "  print(f\"Row-index {i}: {indices[j[0]:j[1]]}\")\n",
    "  print(f\"Row-data {i}: {data[j[0]:j[1]]}\")\n",
    "\n",
    "output"
   ]
  },
  {
   "cell_type": "code",
   "execution_count": null,
   "metadata": {},
   "outputs": [],
   "source": [
    "data = np.array([-111, 20, 31, 4, -15])\n",
    "\n",
    "indices = np.array([0, 2, 2, 0, 1])\n",
    "\n",
    "indptr = np.array([0, 2, 5])\n",
    "\n",
    "output = csr_matrix((data, indices, indptr), shape=(2, 3))\n",
    "\n",
    "for i,j in enumerate(zip(indptr, indptr[1:])):\n",
    "  print(f\"Row-index {i}: {indices[j[0]:j[1]]}\")\n",
    "  print(f\"Row-data {i}: {data[j[0]:j[1]]}\")\n",
    "\n",
    "print(output.toarray())\n",
    "\n",
    "\n"
   ]
  },
  {
   "cell_type": "code",
   "execution_count": null,
   "metadata": {},
   "outputs": [],
   "source": [
    "repeat = 5 \n",
    "new_indptr = output.indptr\n",
    "for r in range(1,repeat):\n",
    "    new_indptr = np.concatenate((new_indptr, new_indptr[-1]+output.indptr[1:]))\n",
    "x = csr_matrix((np.tile(output.data,repeat), np.tile(output.indices,repeat), new_indptr))\n",
    "print(x.toarray())"
   ]
  },
  {
   "cell_type": "code",
   "execution_count": null,
   "metadata": {},
   "outputs": [],
   "source": [
    "repeat = 5 \n",
    "repeated_with_zeros = csr_matrix((output.data, output.indices, np.tile(output.indptr, repeat)))\n",
    "#print(repeated_with_zeros.toarray())\n",
    "\n",
    "repeated_with_zeros.data\n",
    "repeated_with_zeros.indptr\n",
    "\n",
    "print(repeated_with_zeros.shape[0])\n",
    "l = range(repeated_with_zeros.shape[0])[0::3]\n",
    "for i in range(len(l)):\n",
    "  print(i, l[i])"
   ]
  },
  {
   "cell_type": "code",
   "execution_count": null,
   "metadata": {},
   "outputs": [],
   "source": [
    "\n",
    "x = np.array([0,10,27,35,44,32,56,35,87,22,47,17])\n",
    "x = x.reshape(-1,3)\n",
    "x"
   ]
  },
  {
   "cell_type": "code",
   "execution_count": null,
   "metadata": {},
   "outputs": [],
   "source": []
  }
 ],
 "metadata": {
  "interpreter": {
   "hash": "9a7e347db49c95adee4724ccf19fd8649e0c8604e805fb10a39c1e34d6a695ba"
  },
  "kernelspec": {
   "display_name": "Python 3.8.10 64-bit ('my_datascience_env': venv)",
   "name": "python3"
  },
  "language_info": {
   "codemirror_mode": {
    "name": "ipython",
    "version": 3
   },
   "file_extension": ".py",
   "mimetype": "text/x-python",
   "name": "python",
   "nbconvert_exporter": "python",
   "pygments_lexer": "ipython3",
   "version": "3.8.10"
  }
 },
 "nbformat": 4,
 "nbformat_minor": 2
}
