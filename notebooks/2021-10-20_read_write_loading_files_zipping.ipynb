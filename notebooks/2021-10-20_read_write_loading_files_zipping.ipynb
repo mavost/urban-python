{
 "cells": [
  {
   "cell_type": "markdown",
   "id": "a7dac31c",
   "metadata": {},
   "source": [
    "# File operations in Python"
   ]
  },
  {
   "cell_type": "code",
   "execution_count": null,
   "id": "5b11892b",
   "metadata": {},
   "outputs": [],
   "source": [
    "import tempfile\n",
    "with tempfile.TemporaryFile(\"w+b\") as mytempfile:\n",
    "  mytempfile.write(b\"Hello world!\")\n",
    "  mytempfile.seek(1)\n",
    "  bla = mytempfile.read().decode(\"utf-8\")\n"
   ]
  },
  {
   "cell_type": "code",
   "execution_count": null,
   "id": "62c1d2d7",
   "metadata": {},
   "outputs": [],
   "source": [
    "import os\n",
    "import s3fs\n",
    "import zipfile\n",
    "import tempfile\n",
    "import numpy as np\n",
    "from tensorflow import keras\n",
    "from pathlib import Path\n",
    "import logging\n",
    "\n",
    "\n",
    "AWS_ACCESS_KEY=\"aws_access_key\"\n",
    "AWS_SECRET_KEY=\"aws_secret_key\"\n",
    "BUCKET_NAME=\"bucket_name\"\n",
    "\n",
    "\n",
    "def get_s3fs():\n",
    "  return s3fs.S3FileSystem(key=AWS_ACCESS_KEY, secret=AWS_SECRET_KEY)\n",
    "\n",
    "\n",
    "def zipdir(path, ziph):\n",
    "  # Zipfile hook to zip up model folders\n",
    "  length = len(path) # Doing this to get rid of parent folders\n",
    "  for root, dirs, files in os.walk(path):\n",
    "    folder = root[length:] # We don't need parent folders! Why in the world does zipfile zip the whole tree??\n",
    "    for file in files:\n",
    "      ziph.write(os.path.join(root, file), os.path.join(folder, file))\n",
    "\n",
    "            \n",
    "def s3_save_keras_model(model, model_name):\n",
    "  with tempfile.TemporaryDirectory() as tempdir:\n",
    "    model.save(f\"{tempdir}/{model_name}\")\n",
    "    # Zip it up first\n",
    "    zipf = zipfile.ZipFile(f\"{tempdir}/{model_name}.zip\", \"w\", zipfile.ZIP_STORED)\n",
    "    zipdir(f\"{tempdir}/{model_name}\", zipf)\n",
    "    zipf.close()\n",
    "    s3fs = get_s3fs()\n",
    "    s3fs.put(f\"{tempdir}/{model_name}.zip\", f\"{BUCKET_NAME}/{model_name}.zip\")\n",
    "    logging.info(f\"Saved zipped model at path s3://{BUCKET_NAME}/{model_name}.zip\")\n",
    " \n",
    "\n",
    "def s3_get_keras_model(model_name: str) -> keras.Model:\n",
    "  with tempfile.TemporaryDirectory() as tempdir:\n",
    "    s3fs = get_s3fs()\n",
    "    # Fetch and save the zip file to the temporary directory\n",
    "    s3fs.get(f\"{BUCKET_NAME}/{model_name}.zip\", f\"{tempdir}/{model_name}.zip\")\n",
    "    # Extract the model zip file within the temporary directory\n",
    "    with zipfile.ZipFile(f\"{tempdir}/{model_name}.zip\") as zip_ref:\n",
    "        zip_ref.extractall(f\"{tempdir}/{model_name}\")\n",
    "    # Load the keras model from the temporary directory\n",
    "    return keras.models.load_model(f\"{tempdir}/{model_name}\")\n",
    "  \n",
    "\n",
    "\n",
    "inputs = keras.Input(shape=(32,))\n",
    "outputs = keras.layers.Dense(1)(inputs)\n",
    "model = keras.Model(inputs, outputs)\n",
    "model.compile(optimizer=\"adam\", loss=\"mean_squared_error\")\n",
    "\n",
    "# Save the model to S3\n",
    "s3_save_keras_model(model, \"my_model\") \n",
    "\n",
    "# Load the model from S3\n",
    "loaded_model = s3_get_keras_model(\"my_model\")"
   ]
  },
  {
   "cell_type": "code",
   "execution_count": null,
   "id": "6a8ec6a9",
   "metadata": {},
   "outputs": [],
   "source": [
    "import os\n",
    "\n",
    "import tempfile\n",
    "from zipfile import ZipFile\n",
    "\n",
    "from shutil import copyfile\n",
    "\n",
    "with tempfile.TemporaryDirectory() as tempdir:\n",
    "    model_name = \"testmodel\"\n",
    "    source_path = f\"{tempdir}/{model_name}\"\n",
    "    if not os.path.exists(source_path):\n",
    "        try:\n",
    "            os.makedirs(source_path)\n",
    "        except OSError as exc: # Guard against race condition\n",
    "            if exc.errno != errno.EEXIST:\n",
    "                raise         \n",
    "    with open(f\"{tempdir}/{model_name}/myfile.txt\", mode = 'w', encoding = 'utf-8') as f:\n",
    "        f.write(\"my first file\\n\")\n",
    "        f.write(\"another line\\n\")\n",
    "        f.write(\"third line\\n\")\n",
    "    # create a ZipFile object\n",
    "    with ZipFile(f\"{source_path}.zip\", 'w') as zipObj:\n",
    "        # Iterate over all the files in directory\n",
    "        for folderName, subfolders, filenames in os.walk(source_path):\n",
    "            for filename in filenames:\n",
    "                #create complete filepath of file in directory\n",
    "                filePath = os.path.join(folderName, filename)\n",
    "                # Add file to zip\n",
    "                zipObj.write(filePath, os.path.basename(filePath))\n",
    "    input()\n",
    "    copyfile(f\"{tempdir}/{model_name}.zip\", \"/home/markus/testing.zip\")"
   ]
  }
 ],
 "metadata": {
  "kernelspec": {
   "display_name": "my_ml_env",
   "language": "python",
   "name": "python3"
  },
  "language_info": {
   "name": "python",
   "version": "3.10.6 (main, Nov 14 2022, 16:10:14) [GCC 11.3.0]"
  },
  "vscode": {
   "interpreter": {
    "hash": "324981cb1c410b4cb914756069b25daec2748ecf4024d99fab2f64180f1f90c4"
   }
  }
 },
 "nbformat": 4,
 "nbformat_minor": 5
}
