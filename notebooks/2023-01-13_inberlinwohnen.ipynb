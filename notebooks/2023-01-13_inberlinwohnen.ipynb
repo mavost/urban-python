{
 "cells": [
  {
   "attachments": {},
   "cell_type": "markdown",
   "metadata": {},
   "source": [
    "# Abfrage einer [Wohnungsseite](https://inberlinwohnen.de/wohnungsfinder)\n",
    "\n",
    "Date: 2023-01-16"
   ]
  },
  {
   "cell_type": "code",
   "execution_count": null,
   "metadata": {},
   "outputs": [],
   "source": [
    "import requests\n",
    "import re\n",
    "\n",
    "myurl='https://inberlinwohnen.de/wohnungsfinder/'\n",
    "\n",
    "response = requests.get(myurl)\n",
    "#response.text"
   ]
  },
  {
   "cell_type": "code",
   "execution_count": null,
   "metadata": {},
   "outputs": [],
   "source": [
    "html_regex = r\"(<li\\s)+(.+?)(\\sclass=\\\"tb-merkflat ipg\\\">)([\\S\\s]+?)(\\s?<\\/span><\\/span><\\/h3>)\"\n",
    "\n",
    "#test_str = \"blala<li id=\\\"flat_1245972\\\" class=\\\"tb-merkflat ipg\\\"><h3 id=\\\"mfh1245972\\\"><span><span class=\\\"_tb_left\\\"><strong>4</strong> Zimmer, <strong>87,31</strong>  m², <strong>556,64</strong>  &euro; | Lichtenberger Straße 6, Mitte</span><span class=\\\"_tb_right\\\"><a title=\\\"Balkon/Terasse\\\" class=\\\"icon nohand2 balkon_loggia_terrasse\\\"></a>bla</a>\"\n",
    "\n",
    "matches = re.finditer(html_regex, response.text)\n",
    "#cleanid_regex = r\".*\\\"flat_(.*)\\\"\"\n",
    "cleanid_regex = r\"\\\"flat_(.*)\\\"\"\n",
    "\n",
    "cleanspecs_regex = [\n",
    "    (r\"\\n\", ''),\n",
    "    (r\"<h3\\sid=.+?><span><span class=\\\"_tb_left\\\">\", ''),\n",
    "    (r\"<\\/span><span class=\\\"_tb_right\\\">\", '-#'),\n",
    "    (r\"(<\\/strong>|<strong>)\", ''),\n",
    "    (r\"class=\\\"icon\\s?(.*?)\\snohand2\\s?(.*?)\\\"><\\/a>\", ''),\n",
    "    (r\"<a title=\", '; '),\n",
    "    (r\",\\s\", '; '),\n",
    "    (r\"\\s;\\s\", '; '),\n",
    "    (r\"\\s\\|\\s\", ' #-'),\n",
    "    (r\"&euro\", '€'),\n",
    "    (r\"\\\"\", ''),\n",
    "    (r\"\\s{2}\", ' '),\n",
    "    (r\"\\s$\", '')\n",
    "]\n",
    "\n",
    "parse_regex = r\"(.+?)\\sZimmer;\\s(.+?)\\sm²;\\s(.+?)\\s€;\\s#-(.+?)-#;?\\s?(Balkon/Terasse)?;?\\s?(Aufzug)?;?\\s?(Keller)?;?\\s?(Barierrefrei)?;?\\s?(Wohnberechtigungsschein)?;?\\s?(Gäste-WC)?\"\n",
    "\n",
    "new_dict = {}\n",
    "for matchNum, match in enumerate(matches, start=1):\n",
    "    # search for matching intermediate substring, match for starting from beginning\n",
    "    clean_id = re.search(cleanid_regex, match.group(2)).group(1)\n",
    "\n",
    "    clean_specs = match.group(4)\n",
    "    for (sub, rep) in cleanspecs_regex:\n",
    "        clean_specs = re.sub(sub, rep, clean_specs)\n",
    "\n",
    "    #print(f\"{matchNum}: {match.group(2)} - {match.group(4)} --- {clean_id} -- {clean_specs}\")\n",
    "    #print(f\"{matchNum}: {clean_id} -- {clean_specs}\")\n",
    "    parsing = re.match(parse_regex, clean_specs)\n",
    "    #print(parsing)\n",
    "    #print(parsing.groups())\n",
    "    #print(parsing.group(5))\n",
    "    parse_dict = {\n",
    "        'Zimmer': float(parsing.group(1).replace(',', '.')),\n",
    "        'QM': float(parsing.group(2).replace(',', '.')),\n",
    "        'Preis': float(parsing.group(3).replace('.', '').replace(',', '.')),\n",
    "        'Ort': parsing.group(4),\n",
    "        'Balkon': (True if parsing.group(5) is not None else False),\n",
    "        'Aufzug': (True if parsing.group(6) is not None else False),\n",
    "        'Keller': (True if parsing.group(7) is not None else False),\n",
    "        'Barrierefrei': (True if parsing.group(8) is not None else False),\n",
    "        'WBS': (True if parsing.group(9) is not None else False),\n",
    "        'Gäste-WC': (True if parsing.group(10) is not None else False)\n",
    "    }\n",
    "    new_dict[clean_id] = parse_dict\n",
    "    #print(f\"{clean_id}: {parse_dict}\")"
   ]
  },
  {
   "cell_type": "code",
   "execution_count": null,
   "metadata": {},
   "outputs": [],
   "source": [
    "ref_dict = {}\n",
    "print(f\"Reference Dictionary entries: {len(ref_dict)}\")\n",
    "# if results dict has changed, swap dict with newer version \n",
    "if len(ref_dict.keys() ^ new_dict.keys()) > 0:\n",
    "    ref_dict = new_dict\n",
    "    print(f\"Reference Dictionary entries after update: {len(ref_dict)}\")\n",
    "    ref_query = {k: v for k, v in ref_dict.items() if (v['WBS'] and v['QM'] > 60.0) }\n",
    "    print(f\"Reference Dictionary entries, queried: {len(ref_query)}\")"
   ]
  },
  {
   "cell_type": "code",
   "execution_count": null,
   "metadata": {},
   "outputs": [],
   "source": [
    "import time\n",
    "import datetime\n",
    "\n",
    "for counter in range(1,600):\n",
    "    now = datetime.datetime.now().strftime(\"%Y-%m-%d %H:%M:%S\")\n",
    "    print(f\"{counter:03} - {now}\")\n",
    "    for counter in range(1,60):\n",
    "        try:\n",
    "            time.sleep(1)\n",
    "        except KeyboardInterrupt as err:\n",
    "            print(f\"System halted: {err}\")\n",
    "            exit()\n",
    "            #SystemExit(\"Stop right there!\")\n"
   ]
  },
  {
   "attachments": {},
   "cell_type": "markdown",
   "metadata": {},
   "source": [
    "### Mengenoperationen"
   ]
  },
  {
   "cell_type": "code",
   "execution_count": null,
   "metadata": {},
   "outputs": [],
   "source": [
    "# base case\n",
    "dict_1 = {\n",
    "    'name1': 'dog',\n",
    "    'name2': 'elephant',\n",
    "    'name3': 'cat'\n",
    "}\n",
    "\n",
    "# one more item\n",
    "dict_2 = {\n",
    "    'name1': 'dog',\n",
    "    'name2': 'elephant',\n",
    "    'name3': 'cat',\n",
    "    'name4': 'dog'\n",
    "}\n",
    "\n",
    "\n",
    "# one more item, one less item\n",
    "dict_3 = {\n",
    "    'name1': 'dog',\n",
    "    'name2': 'elephant',\n",
    "    'name4': 'dog'\n",
    "}\n",
    "\n",
    "# get union of items from both dicts\n",
    "union_dict = dict_1.copy()\n",
    "union_dict.update(dict_3)\n",
    "union_dict\n",
    "\n",
    "# set operations\n",
    "# s1 | s2: union of s1 and s2, returns elements of both s1 and s2 without repetition.\n",
    "# s1 & s2: intersection of s1 and s2, returns elements which are present in both sets.\n",
    "# s1 − s2: set difference, returns elements which are in s1 but not in s2.\n",
    "# s1 ˆ s2: the symmetric difference of two sets of elements\n",
    "\n",
    "def print_ops(dict_A, dict_B):\n",
    "    print('Dict A: ', {k: v for k, v in union_dict.items() if k in dict_A.keys()})\n",
    "    print('Dict B: ', {k: v for k, v in union_dict.items() if k in dict_B.keys()})\n",
    "    print('#'*40)\n",
    "    print('Union: ', {k: v for k, v in union_dict.items() if k in (dict_A.keys() | dict_B.keys())})\n",
    "    print('Intersection: ', {k: v for k, v in union_dict.items() if k in (dict_A.keys() & dict_B.keys())})\n",
    "    print('Difference A: ', {k: v for k, v in union_dict.items() if k in (dict_A.keys() - dict_B.keys())})\n",
    "    print('Difference B: ', {k: v for k, v in union_dict.items() if k in (dict_B.keys() - dict_A.keys())})\n",
    "    print('Symmetric Difference: ', {k: v for k, v in union_dict.items() if k in (dict_A.keys() ^ dict_B.keys())})\n",
    "\n",
    "print_ops(dict_1, dict_2)\n"
   ]
  },
  {
   "attachments": {},
   "cell_type": "markdown",
   "metadata": {},
   "source": [
    "### Sending emails\n",
    "source: [link](https://betterdatascience.com/send-emails-with-python/)\n",
    "\n",
    "Had issue with the conformity to email standards when using TSL like in this [hint](https://realpython.com/python-send-email/)."
   ]
  },
  {
   "cell_type": "code",
   "execution_count": null,
   "metadata": {},
   "outputs": [],
   "source": [
    "\n",
    "from email.message import EmailMessage\n",
    "import smtplib, ssl\n",
    "import getpass\n",
    "\n",
    "EMAIL_ADDRESS = \"trismegistus@die-optimisten.net\"\n",
    "EMAIL_PASSWORD = getpass.getpass(\"Type your password and press enter:\")\n",
    "#input(\"Type your password and press enter:\")\n",
    "\n",
    "port = 465\n",
    "smtp_server = \"mail.gmx.net\"\n",
    "\n",
    "msg = EmailMessage()\n",
    "msg['Subject'] = 'This is my first Python email'\n",
    "msg['From'] = EMAIL_ADDRESS \n",
    "msg['To'] = EMAIL_ADDRESS \n",
    "msg.set_content('And it actually works')\n",
    "\n",
    "with smtplib.SMTP_SSL(smtp_server, port) as smtp:\n",
    "    smtp.login(EMAIL_ADDRESS, EMAIL_PASSWORD) \n",
    "    smtp.send_message(msg)\n",
    "#msg.as_string()"
   ]
  },
  {
   "cell_type": "code",
   "execution_count": null,
   "metadata": {},
   "outputs": [],
   "source": []
  }
 ],
 "metadata": {
  "kernelspec": {
   "display_name": "Python 3",
   "language": "python",
   "name": "python3"
  },
  "language_info": {
   "codemirror_mode": {
    "name": "ipython",
    "version": 3
   },
   "file_extension": ".py",
   "mimetype": "text/x-python",
   "name": "python",
   "nbconvert_exporter": "python",
   "pygments_lexer": "ipython3",
   "version": "3.9.13 (tags/v3.9.13:6de2ca5, May 17 2022, 16:36:42) [MSC v.1929 64 bit (AMD64)]"
  },
  "vscode": {
   "interpreter": {
    "hash": "54ebfa4f7e481befc4b70490024f8389db45988982b206536a65d435e0c3e25c"
   }
  }
 },
 "nbformat": 4,
 "nbformat_minor": 2
}
