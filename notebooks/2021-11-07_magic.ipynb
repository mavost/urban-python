{
 "cells": [
  {
   "cell_type": "code",
   "execution_count": null,
   "metadata": {},
   "outputs": [],
   "source": [
    "import sys"
   ]
  },
  {
   "cell_type": "code",
   "execution_count": null,
   "metadata": {},
   "outputs": [],
   "source": [
    "%%timeit\n",
    "# Note: a timeit cell does not create variables for use beyond cell, see %who\n",
    "b = []\n",
    "for a in range(100):\n",
    "  if a%10==0: \n",
    "    b.append(a)\n",
    "\n"
   ]
  },
  {
   "cell_type": "code",
   "execution_count": null,
   "metadata": {},
   "outputs": [],
   "source": [
    "%who\n",
    "# list variables"
   ]
  },
  {
   "cell_type": "code",
   "execution_count": null,
   "metadata": {},
   "outputs": [],
   "source": [
    "c = \"word\""
   ]
  },
  {
   "cell_type": "code",
   "execution_count": null,
   "metadata": {},
   "outputs": [],
   "source": [
    "%who str\n",
    "# list variables by type"
   ]
  },
  {
   "cell_type": "code",
   "execution_count": null,
   "metadata": {},
   "outputs": [],
   "source": [
    "#%env\n",
    "# list environment variables\n",
    "#print('#'*80)\n",
    "#%env PATH\n",
    "# list value of particular variable\n",
    "#%env chicken=soup\n",
    "# set variable/values \n",
    "\n",
    "%env"
   ]
  },
  {
   "cell_type": "code",
   "execution_count": null,
   "metadata": {},
   "outputs": [],
   "source": [
    "filename = \"myscript.py\"\n",
    "args = [\"arg1\", \"arg2\"]\n",
    "output = %run \"$filename\" {args[0]} {args[1]}\n",
    "#pass variables to magic function"
   ]
  },
  {
   "cell_type": "code",
   "execution_count": null,
   "metadata": {},
   "outputs": [],
   "source": [
    "%%capture captured_data\n",
    "#capture all output from cell\n",
    "pet = \"dog\"\n",
    "print('hi, stdout1')\n",
    "print('hi, stdout2')\n",
    "print('hi, stderr', file=sys.stderr)\n"
   ]
  },
  {
   "cell_type": "code",
   "execution_count": null,
   "metadata": {},
   "outputs": [],
   "source": [
    "#display capture\n",
    "captured_data.stdout"
   ]
  },
  {
   "cell_type": "code",
   "execution_count": null,
   "metadata": {},
   "outputs": [],
   "source": [
    "%%capture captured_file_data\n",
    "#capture all output from line magic run\n",
    "filename = \"myscript.py\"\n",
    "args = [\"woof\", \"meow\"]\n",
    "output = %run \"$filename\" {args[0]} {args[1]}"
   ]
  },
  {
   "cell_type": "code",
   "execution_count": null,
   "metadata": {},
   "outputs": [],
   "source": [
    "#delete variable from namespace without wiping kernel\n",
    "filename = \"dog.txt\"\n",
    "%xdel filename\n",
    "\n",
    "try:\n",
    "  print(filename)\n",
    "except NameError as e:\n",
    "  print(e)"
   ]
  },
  {
   "cell_type": "code",
   "execution_count": null,
   "metadata": {},
   "outputs": [],
   "source": []
  }
 ],
 "metadata": {
  "interpreter": {
   "hash": "9a7e347db49c95adee4724ccf19fd8649e0c8604e805fb10a39c1e34d6a695ba"
  },
  "kernelspec": {
   "display_name": "Python 3.8.10 64-bit ('my_datascience_env': venv)",
   "name": "python3"
  },
  "language_info": {
   "codemirror_mode": {
    "name": "ipython",
    "version": 3
   },
   "file_extension": ".py",
   "mimetype": "text/x-python",
   "name": "python",
   "nbconvert_exporter": "python",
   "pygments_lexer": "ipython3",
   "version": "3.8.10"
  },
  "orig_nbformat": 4
 },
 "nbformat": 4,
 "nbformat_minor": 2
}
