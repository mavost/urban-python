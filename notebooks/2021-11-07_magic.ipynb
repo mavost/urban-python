{
 "cells": [
  {
   "cell_type": "code",
   "execution_count": null,
   "metadata": {},
   "outputs": [],
   "source": [
    "import sys"
   ]
  },
  {
   "cell_type": "code",
   "execution_count": null,
   "metadata": {},
   "outputs": [],
   "source": [
    "%%timeit\n",
    "# Note: a timeit cell does not create variables for use beyond cell, see %who\n",
    "b = []\n",
    "for a in range(100):\n",
    "  if a%10==0: \n",
    "    b.append(a)\n",
    "\n"
   ]
  },
  {
   "cell_type": "code",
   "execution_count": null,
   "metadata": {},
   "outputs": [],
   "source": [
    "%who\n",
    "# list variables"
   ]
  },
  {
   "cell_type": "code",
   "execution_count": null,
   "metadata": {},
   "outputs": [],
   "source": [
    "c = \"word\""
   ]
  },
  {
   "cell_type": "code",
   "execution_count": null,
   "metadata": {},
   "outputs": [],
   "source": [
    "%who str\n",
    "# list variables by type"
   ]
  },
  {
   "cell_type": "code",
   "execution_count": null,
   "metadata": {},
   "outputs": [],
   "source": [
    "#%env\n",
    "# list environment variables\n",
    "#print('#'*80)\n",
    "#%env PATH\n",
    "# list value of particular variable\n",
    "#%env chicken=soup\n",
    "# set variable/values \n",
    "\n",
    "%env"
   ]
  },
  {
   "cell_type": "code",
   "execution_count": null,
   "metadata": {},
   "outputs": [],
   "source": [
    "filename = \"myscript.py\"\n",
    "args = [\"arg1\", \"arg2\"]\n",
    "output = %run \"$filename\" {args[0]} {args[1]}\n",
    "#pass variables to magic function"
   ]
  },
  {
   "cell_type": "code",
   "execution_count": null,
   "metadata": {},
   "outputs": [],
   "source": [
    "%%capture captured_data\n",
    "#capture all output from cell\n",
    "pet = \"dog\"\n",
    "print('hi, stdout1')\n",
    "print('hi, stdout2')\n",
    "print('hi, stderr', file=sys.stderr)\n"
   ]
  },
  {
   "cell_type": "code",
   "execution_count": null,
   "metadata": {},
   "outputs": [],
   "source": [
    "#display capture\n",
    "captured_data.stdout"
   ]
  },
  {
   "cell_type": "code",
   "execution_count": null,
   "metadata": {},
   "outputs": [],
   "source": [
    "%%capture captured_file_data\n",
    "#capture all output from line magic run\n",
    "filename = \"myscript.py\"\n",
    "args = [\"woof\", \"meow\"]\n",
    "output = %run \"$filename\" {args[0]} {args[1]}"
   ]
  },
  {
   "cell_type": "code",
   "execution_count": null,
   "metadata": {},
   "outputs": [],
   "source": [
    "#delete variable from namespace without wiping kernel\n",
    "filename = \"dog.txt\"\n",
    "%xdel filename\n",
    "\n",
    "try:\n",
    "  print(filename)\n",
    "except NameError as e:\n",
    "  print(e)"
   ]
  },
  {
   "cell_type": "code",
   "execution_count": null,
   "metadata": {},
   "outputs": [],
   "source": []
  }
 ],
 "metadata": {
  "kernelspec": {
   "display_name": "my_ml_env",
   "language": "python",
   "name": "python3"
  },
  "language_info": {
   "codemirror_mode": {
    "name": "ipython",
    "version": 3
   },
   "file_extension": ".py",
   "mimetype": "text/x-python",
   "name": "python",
   "nbconvert_exporter": "python",
   "pygments_lexer": "ipython3",
   "version": "3.10.6 (main, Nov 14 2022, 16:10:14) [GCC 11.3.0]"
  },
  "vscode": {
   "interpreter": {
    "hash": "324981cb1c410b4cb914756069b25daec2748ecf4024d99fab2f64180f1f90c4"
   }
  }
 },
 "nbformat": 4,
 "nbformat_minor": 2
}
