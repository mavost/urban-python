{
 "cells": [
  {
   "cell_type": "code",
   "execution_count": null,
   "metadata": {},
   "outputs": [],
   "source": [
    "#!pip install scipy\n",
    "import numpy as np\n",
    "from scipy.sparse import csr_matrix"
   ]
  },
  {
   "cell_type": "code",
   "execution_count": null,
   "metadata": {},
   "outputs": [],
   "source": [
    "row = np.array([0, 0, 0, 0, 1, 1, 1, 1, 2, 2, 2, 2])\n",
    "col = np.array([0, 1, 2, 3, 0, 1, 2, 3, 0, 1, 2, 3])\n",
    "data = np.array([0, -1, -2, 11, 2, 3, -6, 5, 6, 34, -55, 1])\n",
    "\n",
    "a = csr_matrix((data, (row, col)), shape=(3, 4), dtype=np.int8)\n",
    "# values halved\n",
    "b = a.copy() / 2\n",
    "\n",
    "# values subtracted by one\n",
    "c = a.copy()\n",
    "c.data = c.data - 1\n",
    "\n",
    "# keep smaller value of each\n",
    "d = b.minimum(c)\n",
    "\n",
    "# print\n",
    "print(\"a: \\n\", a.toarray())\n",
    "print(\"b: \\n\", b.toarray())\n",
    "print(\"c: \\n\", c.toarray())\n",
    "print(\"d: \\n\", d.toarray())"
   ]
  },
  {
   "cell_type": "code",
   "execution_count": null,
   "metadata": {},
   "outputs": [],
   "source": [
    "arow = np.array([0, 0, 0, 0, 1, 1, 1, 1, 2, 2, 2, 2])\n",
    "acol = np.array([0, 1, 2, 3, 0, 1, 2, 3, 0, 1, 2, 3])\n",
    "adata = np.array([0, -1, -2, 11, 2, 3, -6, 5, 6, 34, -55, 1])\n",
    "\n",
    "a_mat = csr_matrix((adata, (arow, acol)), shape=(3, 4), dtype=np.int8)\n",
    "\n",
    "brow = np.array([0, 0, 0, 0])\n",
    "bcol = np.array([0, 1, 2, 3])\n",
    "bdata = np.array([-1, 10, 0, 1])\n",
    "\n",
    "b_vec = csr_matrix((bdata, (brow, bcol)), shape=(1, 4), dtype=np.int8)\n",
    "\n",
    "print(\"a_mat: \\n\", a_mat.toarray())\n",
    "print(\"b_vec: \\n\", b_vec.toarray())\n"
   ]
  },
  {
   "cell_type": "code",
   "execution_count": null,
   "metadata": {},
   "outputs": [],
   "source": [
    "%%timeit\n",
    "# empty sparse list matrix\n",
    "c_res = csr_matrix(a_mat.shape)\n",
    "# fill each row with matching vector\n",
    "c_res.data = np.take(b_vec.data, a_mat.indices)\n",
    "# minimum between list matrix and matching vector\n",
    "c_res = c_res.minimum(a_mat)\n",
    "#print(\"a_mat: \\n\", a_mat.toarray())\n",
    "#print(\"c_res: \\n\", c_res.toarray())\n"
   ]
  },
  {
   "cell_type": "code",
   "execution_count": null,
   "metadata": {},
   "outputs": [],
   "source": [
    "%%timeit\n",
    "c_res = csr_matrix(a_mat.shape)\n",
    "#print(\"a_mat: \\n\", a_mat.toarray())\n",
    "#print(\"c_res: \\n\", c_res.toarray())\n",
    "for row in range(c_res.shape[0]):\n",
    "  c_res[row] = a_mat[row].minimum(b_vec[0])\n",
    "#print(\"a_mat: \\n\", a_mat.toarray())\n",
    "#print(\"c_res: \\n\", c_res.toarray())"
   ]
  },
  {
   "cell_type": "code",
   "execution_count": null,
   "metadata": {},
   "outputs": [],
   "source": []
  }
 ],
 "metadata": {
  "interpreter": {
   "hash": "9a7e347db49c95adee4724ccf19fd8649e0c8604e805fb10a39c1e34d6a695ba"
  },
  "kernelspec": {
   "display_name": "Python 3.8.10 64-bit ('my_datascience_env': venv)",
   "name": "python3"
  },
  "language_info": {
   "codemirror_mode": {
    "name": "ipython",
    "version": 3
   },
   "file_extension": ".py",
   "mimetype": "text/x-python",
   "name": "python",
   "nbconvert_exporter": "python",
   "pygments_lexer": "ipython3",
   "version": "3.8.10"
  },
  "orig_nbformat": 4
 },
 "nbformat": 4,
 "nbformat_minor": 2
}
