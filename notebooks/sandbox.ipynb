{
 "cells": [
  {
   "cell_type": "code",
   "execution_count": null,
   "metadata": {},
   "outputs": [],
   "source": [
    "import datetime\n",
    "\n",
    "# Local time without timezone information printed in ISO 8601 format\n",
    "dateTime = datetime.datetime.today()\n",
    "\n",
    "# Time format specifier as hours\n",
    "print(dateTime.isoformat(\"#\",\"hours\"))"
   ]
  },
  {
   "cell_type": "code",
   "execution_count": null,
   "metadata": {},
   "outputs": [],
   "source": [
    "naive_utc_dt = datetime.datetime.utcnow()\n",
    "naive_utc_dt.isoformat(\"#\",\"hours\")\n",
    "\n"
   ]
  },
  {
   "cell_type": "code",
   "execution_count": null,
   "metadata": {},
   "outputs": [],
   "source": [
    "from datetime import datetime, timezone\n",
    "\n",
    "utc_dt = datetime.now(timezone.utc) # UTC time\n",
    "dt = utc_dt.astimezone() # local time\n",
    "print(utc_dt)\n",
    "print(dt)"
   ]
  },
  {
   "cell_type": "code",
   "execution_count": null,
   "metadata": {},
   "outputs": [],
   "source": [
    "timezone.__dict__"
   ]
  }
 ],
 "metadata": {
  "kernelspec": {
   "display_name": "Python 3.10.4 ('my_project_env')",
   "language": "python",
   "name": "python3"
  },
  "language_info": {
   "codemirror_mode": {
    "name": "ipython",
    "version": 3
   },
   "file_extension": ".py",
   "mimetype": "text/x-python",
   "name": "python",
   "nbconvert_exporter": "python",
   "pygments_lexer": "ipython3",
   "version": "3.10.4"
  },
  "vscode": {
   "interpreter": {
    "hash": "36b42e051d60175b3268952cc046ff4da312a86ca4a9eb352d0199e7f9bbcb1a"
   }
  }
 },
 "nbformat": 4,
 "nbformat_minor": 2
}
