{
 "cells": [
  {
   "cell_type": "markdown",
   "metadata": {},
   "source": [
    "# Hello Python / Jupyter notebooks on VS code\n",
    "\n",
    "Date: 2021-10-05\n",
    "\n",
    "Enable by verifying the following steps - subject to further testing:\n",
    "- install python and pip `sudo apt-get -y install python3 python3-pip`\n",
    "\n",
    "- upgrade pip and install virtualenv package `sudo pip3 install --upgrade pip && sudo pip3 install virtualenv`. There is a warning thrown about potential conflicts between *pip* and system-level package managers which we graciously ignore, since we will be using python package administration solely within virtual environments from this point onward.\n",
    "\n",
    "- create *environment*-folder and cd to it, e.g. `mkdir ~/pythonenvs && cd ~/pythonenvs`\n",
    "\n",
    "- create an empty python environment to install a specific configuration of python packages to (data science stack, deep learning, APIs), e.g.: `virtualenv my_project_env`\n",
    "\n",
    "- activate environment: `source ~/pythonenvs/my_project_env/bin/activate`\n",
    "\n",
    "- install jupyter and another package of choice for testing , e.g. *matplotlib*: `pip3 install jupyter matplotlib`. The package *ipykernel* should already be installed through the previous step but better check: `pip3 install -U ipykernel`.\n",
    "\n",
    "  - now, you can start a notebook server in an active environment by executing. `jupyter notebook`\n",
    "\n",
    "- in VS code install Microsoft's Python and Jupyter extensions\n",
    "\n",
    "- register jupyter kernel to VS code by running <kbd>CTRL</kbd>+<kbd>SHIFT</kbd>+<kbd>P</kbd> type \"Python: Select Interpreter\" and paste/navigate path to *python3* executable (e.g. `~/pythonenvs/my_project_env/bin/python`) and restart VS code\n",
    "\n",
    "- navigate to following option: <kbd>CTRL</kbd>+<kbd>SHIFT</kbd>+<kbd>P</kbd> type \"Jupyter: Specify local or remote Jupyter server for connections\" and select \"default\". each cell will now be run with a local instance of the Jupyter server.\n",
    "\n",
    "- create a new blank slate by <kbd>CTRL</kbd>+<kbd>SHIFT</kbd>+<kbd>P</kbd> type \"Jupyter: Create New Blank Notebook\"\n",
    "\n",
    "- select jupyter kernel / environment to use with current notebook <kbd>CTRL</kbd>+<kbd>SHIFT</kbd>+<kbd>P</kbd> type \"Notebook: Select notebook kernel\" which should have registered within VS code now and appear as one of the interpreter options in the dropdown list.\n",
    "\n",
    "- Note: the current kernel is specified on the top-right of notebook page, not bottom-left as for normal `*.py` code\n"
   ]
  },
  {
   "cell_type": "code",
   "execution_count": null,
   "metadata": {},
   "outputs": [],
   "source": [
    "# run a test snippet\n",
    "import matplotlib.pyplot as plt\n",
    "plt.plot([1,2,3,4])\n",
    "plt.ylabel('some numbers')\n",
    "plt.show()\n"
   ]
  }
 ],
 "metadata": {
  "interpreter": {
   "hash": "9a7e347db49c95adee4724ccf19fd8649e0c8604e805fb10a39c1e34d6a695ba"
  },
  "kernelspec": {
   "display_name": "Python 3.8.10 64-bit ('my_datascience_env': venv)",
   "name": "python3"
  },
  "language_info": {
   "codemirror_mode": {
    "name": "ipython",
    "version": 3
   },
   "file_extension": ".py",
   "mimetype": "text/x-python",
   "name": "python",
   "nbconvert_exporter": "python",
   "pygments_lexer": "ipython3",
   "version": "3.8.10"
  }
 },
 "nbformat": 4,
 "nbformat_minor": 5
}
