{
 "cells": [
  {
   "cell_type": "markdown",
   "id": "b4a34466",
   "metadata": {},
   "source": [
    "# Hello Python / Jupyter notebooks on VS code\n",
    "\n",
    "Date: 2021-10-05\n",
    "\n",
    "Enable by verifying the following steps - subject to further testing:\n",
    "- install python and pip `sudo apt-get -y install python3 python3-pip`\n",
    "\n",
    "- upgrade pip and install virtualenv package `sudo pip3 install --upgrade pip && sudo pip3 install virtualenv`. There is a warning thrown about potential conflicts between *pip* and system-level package managers which we graciously ignore, since we will be using python package administration solely within virtual environments from this point onward.\n",
    "\n",
    "- create *environment*-folder and cd to it, e.g. `mkdir ~/pythonenvs && cd ~/pythonenvs`\n",
    "\n",
    "- create an empty python environment to install a specific configuration of python packages to (data science stack, deep learning, APIs), e.g.: `virtualenv my_project_env`\n",
    "\n",
    "- activate environment: `source ~/pythonenvs/my_project_env/bin/activate`\n",
    "\n",
    "- install jupyter and another package of choice for testing , e.g. *matplotlib*: `pip3 install jupyter matplotlib`. The package *ipykernel* should already be installed through the previous step but better check: `pip3 install -U ipykernel`.\n",
    "\n",
    "  - now, you can start a notebook server in an active environment by executing. `jupyter notebook`\n",
    "\n",
    "- in VS code install Microsoft's Python and Jupyter extensions\n",
    "\n",
    "- register jupyter kernel to VS code by running <kbd>CTRL</kbd>+<kbd>SHIFT</kbd>+<kbd>P</kbd> type \"Python: Select Interpreter\" and paste/navigate path to *python3* executable (e.g. `~/pythonenvs/my_project_env/bin/python`) and restart VS code\n",
    "\n",
    "- navigate to following option: <kbd>CTRL</kbd>+<kbd>SHIFT</kbd>+<kbd>P</kbd> type \"Jupyter: Specify local or remote Jupyter server for connections\" and select \"default\". each cell will now be run with a local instance of the Jupyter server.\n",
    "\n",
    "- create a new blank slate by <kbd>CTRL</kbd>+<kbd>SHIFT</kbd>+<kbd>P</kbd> type \"Jupyter: Create New Blank Notebook\"\n",
    "\n",
    "- select jupyter kernel / environment to use with current notebook <kbd>CTRL</kbd>+<kbd>SHIFT</kbd>+<kbd>P</kbd> type \"Notebook: Select notebook kernel\" which should have registered within VS code now and appear as one of the interpreter options in the dropdown list.\n",
    "\n",
    "- Note: the current kernel is specified on the top-right of notebook page, not bottom-left as for normal `*.py` code\n"
   ]
  },
  {
   "cell_type": "code",
   "execution_count": null,
   "id": "fe5ddbfe",
   "metadata": {},
   "outputs": [],
   "source": [
    "# run a test snippet\n",
    "import matplotlib.pyplot as plt\n",
    "plt.plot([1,2,3,4])\n",
    "plt.ylabel('some numbers')\n",
    "plt.show()\n"
   ]
  },
  {
   "cell_type": "code",
   "execution_count": null,
   "id": "c7ff453d",
   "metadata": {},
   "outputs": [],
   "source": []
  }
 ],
 "metadata": {
  "kernelspec": {
   "display_name": "my_ml_env",
   "language": "python",
   "name": "python3"
  },
  "language_info": {
   "codemirror_mode": {
    "name": "ipython",
    "version": 3
   },
   "file_extension": ".py",
   "mimetype": "text/x-python",
   "name": "python",
   "nbconvert_exporter": "python",
   "pygments_lexer": "ipython3",
   "version": "3.10.6 (main, Nov 14 2022, 16:10:14) [GCC 11.3.0]"
  },
  "vscode": {
   "interpreter": {
    "hash": "324981cb1c410b4cb914756069b25daec2748ecf4024d99fab2f64180f1f90c4"
   }
  }
 },
 "nbformat": 4,
 "nbformat_minor": 5
}
